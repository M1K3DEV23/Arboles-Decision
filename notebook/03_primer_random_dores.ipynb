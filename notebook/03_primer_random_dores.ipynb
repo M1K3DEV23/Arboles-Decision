{
 "cells": [
  {
   "cell_type": "markdown",
   "metadata": {},
   "source": [
    "# MI primer random forest con scikit-learn"
   ]
  },
  {
   "cell_type": "markdown",
   "metadata": {},
   "source": [
    "## Conociendo nuestro dataset\n",
    "\n",
    "Utilizaremos el [Pima indians diabetes](https://www.kaggle.com/datasets/kumargh/pimaindiansdiabetescsv)\n",
    "\n",
    "El conjunto de datos contiene información médica de mujeres Pima Indian de Arizona, Estados Unidos, que participaron en un estudio de la diabetes en la década de 1980.\n",
    "\n",
    "El conjunto de datos consta de 768 instancias y 9 atributos, incluyendo el número de veces que una mujer ha estado embarazada, su edad, presión arterial diastólica, índice de masa corporal, concentración de glucosa en plasma y la presencia o ausencia de diabetes en la prueba."
   ]
  },
  {
   "cell_type": "markdown",
   "metadata": {},
   "source": [
    "### Atributos\n",
    "\n",
    "1. preg: Número de veces embarazada\n",
    "\n",
    "2. plas: Concentración de glucosa en plasma a las 2 horas en una prueba de tolerancia a la glucosa oral\n",
    "\n",
    "3. pres: Presión arterial diastólica (mm Hg)\n",
    "\n",
    "4. skin: Grosor del pliegue cutáneo tricipital (mm)\n",
    "\n",
    "5. test: Concentración de insulina en suero a las 2 horas (mu U/ml)\n",
    "\n",
    "6. mass: Índice de masa corporal (peso en kg/(altura en m)^2)\n",
    "\n",
    "7. pedi: Función de diabetes basada en antecedentes familiares\n",
    "\n",
    "8. age: Edad (años)\n",
    "\n",
    "9. class: Variable de clase (1: positivo para diabetes, 0: negativo para diabetes en la prueba)"
   ]
  },
  {
   "cell_type": "code",
   "execution_count": null,
   "metadata": {},
   "outputs": [],
   "source": [
    "# Importando las librerias necesarias\n",
    "import matplotlib.pyplot as plt\n",
    "\n",
    "# Datos faltantes\n",
    "import missingno as miss\n",
    "import numpy as np\n",
    "import pandas as pd\n",
    "import seaborn as sns\n",
    "\n",
    "# Modelo de Random Forest Classifier\n",
    "from sklearn.ensemble import RandomForestClassifier\n",
    "\n",
    "# Metricas de nuestro modelo\n",
    "from sklearn.metrics import accuracy_score, classification_report, confusion_matrix\n",
    "\n",
    "# Modelo y procesamiento de datos\n",
    "# Optimizacion de parametros de nuestro modelo\n",
    "# Validacion Cruzada\n",
    "from sklearn.model_selection import (\n",
    "    GridSearchCV,\n",
    "    KFold,\n",
    "    cross_val_score,\n",
    "    train_test_split,\n",
    ")\n",
    "\n",
    "sns.set(style=\"whitegrid\", context='notebook', palette=\"Spectral\")\n",
    "# sns.color_palette(\"blend:#7AB,#EDA\", as_cmap=True)"
   ]
  },
  {
   "cell_type": "code",
   "execution_count": null,
   "metadata": {},
   "outputs": [],
   "source": [
    "# Cargamos el dataset a utilizar\n",
    "df = pd.read_csv(\"../data/pima-indians-diabetes.csv\", sep=',')"
   ]
  },
  {
   "cell_type": "code",
   "execution_count": null,
   "metadata": {},
   "outputs": [],
   "source": [
    "# Visualizancion aleatoria de 10 registros\n",
    "df.sample(10)"
   ]
  },
  {
   "cell_type": "code",
   "execution_count": null,
   "metadata": {},
   "outputs": [],
   "source": [
    "# Renombrando columnas\n",
    "columns_names = np.array(['preg', 'plas', 'pres', 'skin', 'test', 'mass', 'pedi', 'age', 'Class'])\n",
    "\n",
    "df.columns = columns_names"
   ]
  },
  {
   "cell_type": "code",
   "execution_count": null,
   "metadata": {},
   "outputs": [],
   "source": [
    "# Verificacion de los datos\n",
    "df.head()"
   ]
  },
  {
   "cell_type": "markdown",
   "metadata": {},
   "source": [
    "Todos los datos son de tipo numerico\n",
    "\n",
    "Nuestro target es Class"
   ]
  },
  {
   "cell_type": "code",
   "execution_count": null,
   "metadata": {},
   "outputs": [],
   "source": [
    "# Analizamos el shape\n",
    "print(df.shape)"
   ]
  },
  {
   "cell_type": "code",
   "execution_count": null,
   "metadata": {},
   "outputs": [],
   "source": [
    "# Visualizamos los tipos de datos\n",
    "df.info()"
   ]
  },
  {
   "cell_type": "markdown",
   "metadata": {},
   "source": [
    "# Data pre-processing\n"
   ]
  },
  {
   "cell_type": "markdown",
   "metadata": {},
   "source": [
    "# Exploracíon de datos"
   ]
  },
  {
   "cell_type": "code",
   "execution_count": null,
   "metadata": {},
   "outputs": [],
   "source": [
    "miss.matrix(df);"
   ]
  },
  {
   "cell_type": "markdown",
   "metadata": {},
   "source": [
    "no se encuentran valores nulos"
   ]
  },
  {
   "cell_type": "code",
   "execution_count": null,
   "metadata": {},
   "outputs": [],
   "source": [
    "# Manejo de datos nulos\n",
    "df.isna().sum()"
   ]
  },
  {
   "cell_type": "markdown",
   "metadata": {},
   "source": [
    "Variables con datos perdidos"
   ]
  },
  {
   "cell_type": "code",
   "execution_count": null,
   "metadata": {},
   "outputs": [],
   "source": [
    "df.iloc[:, 1:6].replace(to_replace=[0], value=np.nan).isna().sum().reset_index(name = 'missing_values').rename(columns={\"index\": \"variable\"}).assign( percentage = lambda df_reset: df_reset.missing_values / len(df) * 100)"
   ]
  },
  {
   "cell_type": "markdown",
   "metadata": {},
   "source": [
    "Porporcion de la variable objetivo"
   ]
  },
  {
   "cell_type": "code",
   "execution_count": null,
   "metadata": {},
   "outputs": [],
   "source": [
    "plt.figure(figsize=(8,8))\n",
    "\n",
    "labels, counts = np.unique(df['Class'], return_counts=True)\n",
    "plt.pie(counts, labels=labels, autopct='%1.1f%%')\n",
    "plt.legend({'Diabetes Negativo', 'Diabetes positivo'})\n",
    "plt.title(\"Proporcion de diabetes\")\n",
    "plt.show()\n",
    "\n",
    "# \n",
    "print(df['Class'].value_counts())"
   ]
  },
  {
   "cell_type": "markdown",
   "metadata": {},
   "source": [
    "## Entrenamiento de random forest con scikit-learn"
   ]
  },
  {
   "cell_type": "code",
   "execution_count": null,
   "metadata": {},
   "outputs": [],
   "source": [
    "X = df.drop('Class', axis=1)\n",
    "y = df['Class']"
   ]
  },
  {
   "cell_type": "code",
   "execution_count": null,
   "metadata": {},
   "outputs": [],
   "source": [
    "X"
   ]
  },
  {
   "cell_type": "code",
   "execution_count": null,
   "metadata": {},
   "outputs": [],
   "source": [
    "y"
   ]
  },
  {
   "cell_type": "code",
   "execution_count": null,
   "metadata": {},
   "outputs": [],
   "source": [
    "# 30% para test y 70% para train\n",
    "X_train, X_test, y_train, y_test = train_test_split(X, y, test_size=0.3, random_state=42)"
   ]
  },
  {
   "cell_type": "code",
   "execution_count": null,
   "metadata": {},
   "outputs": [],
   "source": [
    "X_train.shape, y_train.shape"
   ]
  },
  {
   "cell_type": "code",
   "execution_count": null,
   "metadata": {},
   "outputs": [],
   "source": [
    "X_test.shape, y_test.shape"
   ]
  },
  {
   "cell_type": "code",
   "execution_count": null,
   "metadata": {},
   "outputs": [],
   "source": [
    "# Instanciar nuestro modelo de random forest\n",
    "rfc_model = RandomForestClassifier(random_state=42)"
   ]
  },
  {
   "cell_type": "code",
   "execution_count": null,
   "metadata": {},
   "outputs": [],
   "source": [
    "# Definir los hiperparametros y sus posibles valores\n",
    "param_grid = {\n",
    "    \"n_estimators\": [5, 10, 25, 50],\n",
    "    \"max_depth\": [5, 10, 15],\n",
    "    \"criterion\": [\"gini\", \"entropy\", \"log_loss\"],\n",
    "    \"min_samples_split\": [2, 4, 6],\n",
    "    \"min_samples_leaf\": [1, 2, 4]\n",
    "}"
   ]
  },
  {
   "cell_type": "code",
   "execution_count": null,
   "metadata": {},
   "outputs": [],
   "source": [
    "# Crear el objeto GridSearchCv\n",
    "grid_search = GridSearchCV(estimator=rfc_model, param_grid=param_grid, cv=5, scoring='accuracy')"
   ]
  },
  {
   "cell_type": "code",
   "execution_count": null,
   "metadata": {},
   "outputs": [],
   "source": [
    "# Ajustar el modelo con Grid\n",
    "grid_search.fit(X_train, y_train)"
   ]
  },
  {
   "cell_type": "code",
   "execution_count": null,
   "metadata": {},
   "outputs": [],
   "source": [
    "for params, mean_score in zip(grid_search.cv_results_['params'], grid_search.cv_results_['mean_test_score']):\n",
    "    print(f\"Parametros: {params}\\n\")\n",
    "    print(\"=\"*70)\n",
    "    print(f\"Mean Score: {mean_score}\")"
   ]
  },
  {
   "cell_type": "markdown",
   "metadata": {},
   "source": [
    "Cual es la mejor optimizacion de nuestro modelo"
   ]
  },
  {
   "cell_type": "code",
   "execution_count": null,
   "metadata": {},
   "outputs": [],
   "source": [
    "print(f\"Mejores hiperParametros encontrados: {grid_search.best_params_}\")\n",
    "print(\"-\"*50)\n",
    "print(f\"Mejor puntuacion de validacion cruzada: {grid_search.best_score_}\\n\")"
   ]
  },
  {
   "cell_type": "code",
   "execution_count": null,
   "metadata": {},
   "outputs": [],
   "source": [
    "# Obtener el mmodelo con el mejor rendimiento\n",
    "\n",
    "best_rfc = grid_search.best_estimator_"
   ]
  },
  {
   "cell_type": "code",
   "execution_count": null,
   "metadata": {},
   "outputs": [],
   "source": [
    "# Calculo de las predicciones en Train y Test\n",
    "y_train_pred = best_rfc.predict(X_train)\n",
    "# Test\n",
    "y_test_pred = best_rfc.predict(X_test)"
   ]
  },
  {
   "cell_type": "markdown",
   "metadata": {},
   "source": [
    "# Evaluacion de nuestro modelo"
   ]
  },
  {
   "cell_type": "code",
   "execution_count": null,
   "metadata": {},
   "outputs": [],
   "source": [
    "train_accuracy = accuracy_score(y_train, y_train_pred)\n",
    "# Prediccion test\n",
    "test_accuracy = accuracy_score(y_test, y_test_pred)\n",
    "\n",
    "print(\"Train accuracy: \", train_accuracy)\n",
    "print(\"Test accuracy: \", test_accuracy)"
   ]
  },
  {
   "cell_type": "code",
   "execution_count": null,
   "metadata": {},
   "outputs": [],
   "source": [
    "# reporte de classification\n",
    "print(classification_report(y_test, y_test_pred))"
   ]
  },
  {
   "cell_type": "markdown",
   "metadata": {},
   "source": [
    "El modelo de Random Forest, con parámetros optimizados, alcanzó una **precisión general** del *74%* y un **promedio ponderado** del *71%*\n",
    "\n",
    "El F1-score para la **clase \"0\"** fue de *80%*, indicando una buena capacidad para identificar casos negativos. Sin embargo, el F1-score para la **clase \"1\"** fue de *62%*, mostrando un rendimiento ligeramente inferior en la detección de casos positivos.\n",
    "\n",
    "En general, el modelo demostró un rendimiento satisfactorio."
   ]
  },
  {
   "cell_type": "code",
   "execution_count": null,
   "metadata": {},
   "outputs": [],
   "source": [
    "cm = confusion_matrix(y_test, y_test_pred, labels=best_rfc.classes_)\n",
    "\n",
    "sns.heatmap(cm, annot=True, fmt=\"d\", cmap='gray', square=True, cbar=False)\n",
    "plt.xlabel(\"True Label\")\n",
    "plt.ylabel(\"Predicted Label\")\n",
    "plt.show()"
   ]
  },
  {
   "cell_type": "markdown",
   "metadata": {},
   "source": [
    "# Análisis de las importancias de los features"
   ]
  },
  {
   "cell_type": "code",
   "execution_count": null,
   "metadata": {},
   "outputs": [],
   "source": [
    "feature_scores_diabetes_df = pd.DataFrame({\n",
    "    \"Feature\": list(X.columns),\n",
    "    \"importance\": best_rfc.feature_importances_\n",
    "}).sort_values(\"importance\", ascending=False)"
   ]
  },
  {
   "cell_type": "code",
   "execution_count": null,
   "metadata": {},
   "outputs": [],
   "source": [
    "feature_scores_diabetes_df"
   ]
  },
  {
   "cell_type": "code",
   "execution_count": null,
   "metadata": {},
   "outputs": [],
   "source": [
    "sns.barplot(data=feature_scores_diabetes_df, y='Feature', x='importance', hue='importance', palette=\"Set2\", legend=False)\n",
    "plt.title('Feature Importance')\n",
    "plt.yticks(rotation=45)\n",
    "plt.show()"
   ]
  },
  {
   "cell_type": "code",
   "execution_count": null,
   "metadata": {},
   "outputs": [],
   "source": [
    "feature_scores_diabetes = pd.DataFrame(pd.Series(best_rfc.feature_importances_, index=X_train.columns).sort_values(ascending=False)).T\n",
    "plt.figure(figsize=(8,6))\n",
    "sns.barplot(data=feature_scores_diabetes)\n",
    "\n",
    "for index, value in enumerate(feature_scores_diabetes.values.flatten()):\n",
    "    plt.annotate(f'{value:.2f}', xy=(index, value), ha='center', va='bottom')\n",
    "\n",
    "\n",
    "plt.title(\"Factores clave en la predicción de diabetes positivo en pima indians\")\n",
    "plt.show()\n",
    "feature_scores_diabetes_df"
   ]
  },
  {
   "cell_type": "markdown",
   "metadata": {},
   "source": [
    "Un análisis de las importancias de las características revela que las características más influyentes para la predicción del modelo son:\n",
    "\n",
    "- plas: Con una importancia de *0.253495*, se destaca como la característica más importante. Esto indica que la concentración de glucosa en plasma sanguíneo tiene un impacto significativo en la predicción de la diabetes.\n",
    "\n",
    "- mass: El índice de masa corporal (IMC) es la segunda característica más relevante, con una importancia de *0.189541*. Esto sugiere que el peso relativo a la altura también juega un papel crucial en la predicción de la diabetes.\n",
    "\n",
    "- age: La edad se posiciona como la tercera característica más importante, con una importancia de *0.152137*. Esto indica que la edad de la paciente también contribuye significativamente a la predicción de la enfermedad.\n",
    "\n",
    "- pedi: El valor de pedigree diabetes function (pedi) tiene una importancia de *0.116485*. Esto sugiere que el historial familiar de diabetes puede tener un impacto en la predicción de la enfermedad."
   ]
  },
  {
   "cell_type": "markdown",
   "metadata": {},
   "source": [
    "Las características restantes, como **test, preg, pres y skin** tienen importancias relativamente más bajas en comparación con las anteriores, pero aún contribuyen al proceso de predicción."
   ]
  },
  {
   "cell_type": "markdown",
   "metadata": {},
   "source": [
    "Estos resultados resaltan la importancia de características clave como la concentración de glucosa, el índice de masa corporal, la edad y el historial familiar en la predicción de la diabetes en el conjunto de datos."
   ]
  },
  {
   "cell_type": "markdown",
   "metadata": {},
   "source": [
    "# Validacion Cruzada"
   ]
  },
  {
   "cell_type": "code",
   "execution_count": null,
   "metadata": {},
   "outputs": [],
   "source": [
    "from sklearn.model_selection import KFold\n",
    "from sklearn.model_selection import cross_val_score\n",
    "k =5\n",
    "cv = KFold(n_splits=k, shuffle=True, random_state=42)\n",
    "\n",
    "scores = cross_val_score(best_rfc, X_train, y_train, cv=cv, scoring='accuracy')\n",
    "print(\"\")\n",
    "print(\"Accuracy score for each fold: \", scores * 100)\n",
    "print(\"Mean accuracy: \", scores.mean() * 100)\n",
    "print(\"Stadard deviation: \", scores.std() * 100)"
   ]
  },
  {
   "cell_type": "markdown",
   "metadata": {},
   "source": [
    "Los resultados muestran que el modelo tiene una **precisión promedio** del *74.8113%* en la validación cruzada, con una **desviación estándar** de *2.1526%*, lo que indica que las puntuaciones de precisión están relativamente cerca de la media y son consistentes entre los pliegues.\n",
    "\n",
    "Esto sugiere que el modelo tiene un rendimiento razonablemente estable y generaliza bien en los diferentes pliegues de la validación cruzada."
   ]
  }
 ],
 "metadata": {
  "kernelspec": {
   "display_name": ".venv",
   "language": "python",
   "name": "python3"
  },
  "language_info": {
   "codemirror_mode": {
    "name": "ipython",
    "version": 3
   },
   "file_extension": ".py",
   "mimetype": "text/x-python",
   "name": "python",
   "nbconvert_exporter": "python",
   "pygments_lexer": "ipython3",
   "version": "3.10.12"
  }
 },
 "nbformat": 4,
 "nbformat_minor": 2
}
